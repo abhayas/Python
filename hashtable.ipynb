{
 "cells": [
  {
   "cell_type": "code",
   "execution_count": 15,
   "metadata": {},
   "outputs": [],
   "source": [
    "# get the sum of ascii key mapping of the string as key. and assigned it to the array\n",
    "class createHashtable():\n",
    "\n",
    "    def __init__(self):\n",
    "        self.max = 100\n",
    "        self.arr = [None for y in range(self.max)]\n",
    "        #print(self.arr)\n",
    "\n",
    "    def getindex(self, key,val):\n",
    "        count = 0\n",
    "        for x in key:\n",
    "            count+=ord(x)\n",
    "        \n",
    "        self.arr[count%self.max]=val    \n",
    "    \n",
    "        "
   ]
  },
  {
   "cell_type": "code",
   "execution_count": 20,
   "metadata": {},
   "outputs": [],
   "source": [
    "k = createHashtable()\n",
    "k.getindex(\"march 6\",\"yu\")"
   ]
  },
  {
   "cell_type": "code",
   "execution_count": null,
   "metadata": {},
   "outputs": [],
   "source": []
  }
 ],
 "metadata": {
  "kernelspec": {
   "display_name": "Python 3 (ipykernel)",
   "language": "python",
   "name": "python3"
  },
  "language_info": {
   "codemirror_mode": {
    "name": "ipython",
    "version": 3
   },
   "file_extension": ".py",
   "mimetype": "text/x-python",
   "name": "python",
   "nbconvert_exporter": "python",
   "pygments_lexer": "ipython3",
   "version": "3.11.7"
  }
 },
 "nbformat": 4,
 "nbformat_minor": 4
}
